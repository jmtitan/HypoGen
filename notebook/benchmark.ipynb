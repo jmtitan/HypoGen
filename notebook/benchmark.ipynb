{
 "cells": [
  {
   "cell_type": "markdown",
   "metadata": {},
   "source": [
    "A code snippet for benchmark of hypothesis generation"
   ]
  },
  {
   "cell_type": "code",
   "execution_count": 18,
   "metadata": {},
   "outputs": [
    {
     "name": "stderr",
     "output_type": "stream",
     "text": [
      "Device set to use cuda:0\n"
     ]
    }
   ],
   "source": [
    "from transformers import pipeline\n",
    "from sentence_transformers import SentenceTransformer, util\n",
    "import json \n",
    "import random\n",
    "import re\n",
    "import ast\n",
    "\n",
    "# load tool models\n",
    "emb_model = SentenceTransformer('all-MiniLM-L6-v2')\n",
    "infer_model = pipeline(\"text-generation\", model=\"Qwen/Qwen2.5-1.5B-Instruct\")\n"
   ]
  },
  {
   "cell_type": "code",
   "execution_count": 19,
   "metadata": {},
   "outputs": [],
   "source": [
    "# load and embeding hypothesis bank\n",
    "with open('../open-r1/recipes/hypoGen/hypothesis_bank2.json', 'r') as f:\n",
    "    hb = json.load(f)\n",
    "hypothesis_bank = hb['tweet_hypotheses']\n",
    "emb_hyp_bank = emb_model.encode(hypothesis_bank, convert_to_tensor=True)"
   ]
  },
  {
   "cell_type": "code",
   "execution_count": 20,
   "metadata": {},
   "outputs": [],
   "source": [
    "# load dataset\n",
    "with open('../data/retweet/retweet_test.json', 'r') as f:\n",
    "    tweet_pairs_dataset = json.load(f)\n",
    "tweet_pairs_dataset['input'] = [(first, second) for first, second in zip(tweet_pairs_dataset['first_tweet'], tweet_pairs_dataset['second_tweet'])]\n"
   ]
  },
  {
   "cell_type": "code",
   "execution_count": 21,
   "metadata": {},
   "outputs": [],
   "source": [
    "with open('../open-r1/recipes/hypoGen/hypothesis_infer.md', 'r') as f:\n",
    "    infer_template = f.read()"
   ]
  },
  {
   "cell_type": "code",
   "execution_count": 22,
   "metadata": {},
   "outputs": [],
   "source": [
    "def avg(inp):\n",
    "    return sum(inp) / len(inp)\n",
    "\n",
    "    \n",
    "def get_hypothesis_pred(output):\n",
    "    match = re.search(r\"Final answer: the (first|second) tweet\", output)\n",
    "    if match:\n",
    "        result = match.group(1)\n",
    "        return result\n",
    "    else:\n",
    "        return None\n",
    "\n",
    "def get_hypothesis(output):\n",
    "    match = re.search(r'HYP:\\s*(.*?[\\.\\!\\?])', output)\n",
    "    if match:\n",
    "        result = match.group(1)\n",
    "        return result\n",
    "    else:\n",
    "        return None\n",
    "\n",
    "def compute_score(preds, labels):\n",
    "    correct = sum([t == p for t, p in zip(labels, preds)])\n",
    "    score = correct / len(labels)\n",
    "    return score"
   ]
  },
  {
   "cell_type": "code",
   "execution_count": 23,
   "metadata": {},
   "outputs": [
    {
     "name": "stdout",
     "output_type": "stream",
     "text": [
      "testing :Tweets with visual content (images or videos) receive more retweets than text-only tweets.\n",
      "\n",
      "avg practical rewards: 0.5066666666666667\n",
      "testing :Tweets that include popular hashtags receive more retweets than those without hashtags.\n",
      "\n",
      "avg practical rewards: 0.4266666666666667\n",
      "testing :Tweets mentioning influential figures or brands receive more retweets than those that do not.\n",
      "\n",
      "avg practical rewards: 0.5066666666666666\n",
      "testing :Tweets with emotionally charged language (e.g., 'shocking', 'amazing') receive more retweets than neutral language.\n",
      "\n",
      "avg practical rewards: 0.48333333333333334\n",
      "testing :Tweets containing humor or jokes receive more retweets than serious tweets.\n",
      "\n",
      "avg practical rewards: 0.48000000000000004\n",
      "testing :Tweets discussing controversial topics receive more retweets than non-controversial tweets.\n",
      "\n",
      "avg practical rewards: 0.48333333333333334\n",
      "testing :Tweets with a clear call-to-action (e.g., 'Retweet this') receive more retweets than those without.\n",
      "\n",
      "avg practical rewards: 0.5133333333333333\n",
      "testing :Tweets that include statistics or factual data receive more retweets than opinion-based tweets.\n",
      "\n",
      "avg practical rewards: 0.4666666666666667\n",
      "testing :Tweets sharing personal stories or experiences receive more retweets than impersonal tweets.\n",
      "\n",
      "avg practical rewards: 0.48000000000000004\n",
      "testing :Tweets expressing positive emotions (e.g., happiness, hope) receive more retweets than those expressing negative emotions.\n",
      "\n",
      "avg practical rewards: 0.47\n"
     ]
    }
   ],
   "source": [
    "def get_practical_rewards(new_hypothesis_list, batch_size=10):\n",
    "\n",
    "    practical_rewards = []\n",
    "    for hyp in new_hypothesis_list[:10]:\n",
    "        rewards = []\n",
    "        print(f'testing :{hyp}\\n')\n",
    "        for i in range(0, len(tweet_pairs_dataset['input']), batch_size):\n",
    "            llm_input = tweet_pairs_dataset['input'][i:i+batch_size]\n",
    "            labels = tweet_pairs_dataset['label'][i:i+batch_size]\n",
    "            if not hyp:\n",
    "                rewards.append(0)\n",
    "\n",
    "            else:\n",
    "                final_prompt = infer_template.format(input=llm_input, hypothesis=hyp)\n",
    "                output = infer_model(final_prompt, \n",
    "                                    max_new_tokens=100, \n",
    "                                    num_return_sequences=1,\n",
    "                                    temperature=0.9, \n",
    "                                    do_sample=True)\n",
    "                output = output[0]['generated_text'].split('## OUTPUT')[-1]\n",
    "                \n",
    "                match = re.search(r'\\[[^\\[\\]]*\\]', output)\n",
    "                if match:\n",
    "                    preds = match.group(0)\n",
    "                    preds = ast.literal_eval(preds)\n",
    "                    score = compute_score(preds, labels)\n",
    "                    rewards.append(score)\n",
    "                else:\n",
    "                    rewards.append(0)\n",
    "        avg_rew = sum(rewards)/len(rewards)\n",
    "        print(f'avg practical rewards: {avg_rew}')\n",
    "        practical_rewards.append(avg_rew)\n",
    "    return practical_rewards\n",
    "\n",
    "p_rewards_infer = get_practical_rewards(hypothesis_bank, 5)"
   ]
  },
  {
   "cell_type": "code",
   "execution_count": 24,
   "metadata": {},
   "outputs": [
    {
     "name": "stdout",
     "output_type": "stream",
     "text": [
      "infer model practical avg rewards: 0.48166666666666663\n"
     ]
    }
   ],
   "source": [
    "print(f'infer model practical avg rewards: {avg(p_rewards_infer)}')"
   ]
  },
  {
   "cell_type": "code",
   "execution_count": 25,
   "metadata": {},
   "outputs": [],
   "source": [
    "# import openai\n",
    "# from openai import OpenAI\n",
    "# import numpy as np\n",
    "# from tenacity import retry, stop_after_attempt, wait_random_exponential\n",
    "\n",
    "# # 初始化 OpenAI 客户端\n",
    "# client = OpenAI(api_key=\"sk-svcacct-weFv3dteTxkQFpWdzqj7U_Aid4pPEiylunq63VnUVJv3TBdAR0qT3BlbkFJjd6GZZos9Zkd4ux3HRhmGbZt1iY7iJk5U1T28_yXCrBceQRgxdwA\")  # 替换为你的 API 密钥\n",
    "\n",
    "# # 设置重试机制和指数退避\n",
    "# @retry(stop=stop_after_attempt(3), wait=wait_random_exponential(min=1, max=30))\n",
    "# def openai_chat_completion(**kwargs):\n",
    "#     return client.chat.completions.create(**kwargs)\n",
    "\n",
    "# def get_practical_rewards(new_hypothesis_list, tweet_pairs_dataset, batch_size=10):\n",
    "#     practical_rewards = []\n",
    "    \n",
    "#     # 预处理数据集为可迭代批次\n",
    "#     dataset_size = len(tweet_pairs_dataset['input'])\n",
    "#     indices = np.arange(dataset_size)\n",
    "#     np.random.shuffle(indices)\n",
    "    \n",
    "#     # 仅处理前10个假设\n",
    "#     for hyp_idx, hyp in enumerate(new_hypothesis_list[:10]):\n",
    "#         if not hyp.strip():\n",
    "#             practical_rewards.append(0)\n",
    "#             continue\n",
    "            \n",
    "#         total_score = []\n",
    "#         print(f\"\\nTesting hypothesis {hyp_idx+1}/10: {hyp[:50]}...\")\n",
    "        \n",
    "#         # 分批处理数据\n",
    "#         for batch_start in range(0, dataset_size, batch_size):\n",
    "#             batch_indices = indices[batch_start : batch_start+batch_size]\n",
    "#             batch_inputs = [tweet_pairs_dataset['input'][i] for i in batch_indices]\n",
    "#             batch_labels = [tweet_pairs_dataset['label'][i] for i in batch_indices]\n",
    "#             batch_scores = []\n",
    "#             try:\n",
    "#                 messages = [\n",
    "#                         {\"role\": \"system\", \"content\": \"You are a tweet analysis expert.\"},\n",
    "#                         {\"role\": \"user\", \"content\": infer_template.format(\n",
    "#                             input=batch_inputs, \n",
    "#                             hypothesis=hyp\n",
    "#                         )}\n",
    "#                     ]\n",
    "#                 response = openai_chat_completion(\n",
    "#                         model=\"gpt-4o\",  # 或 \"gpt-4\"\n",
    "#                         messages=messages,\n",
    "#                         max_tokens=100,\n",
    "#                         temperature=0.9,\n",
    "#                         n=1\n",
    "#                     )\n",
    "#                 # 每个prompt仅处理一个例子\n",
    "#                 # 构造批量请求消息\n",
    "#                 # messages_batch = []\n",
    "#                 # for input_text in batch_inputs:\n",
    "#                 #     messages = [\n",
    "#                 #         {\"role\": \"system\", \"content\": \"You are a tweet analysis expert.\"},\n",
    "#                 #         {\"role\": \"user\", \"content\": infer_template.format(\n",
    "#                 #             input=input_text, \n",
    "#                 #             hypothesis=hyp\n",
    "#                 #         )}\n",
    "#                 #     ]\n",
    "#                 #     messages_batch.append(messages)\n",
    "                \n",
    "#                 # # 批量API调用\n",
    "#                 # responses = []\n",
    "#                 # for messages in messages_batch:\n",
    "#                 #     response = openai_chat_completion(\n",
    "#                 #         model=\"gpt-4o\",  # 或 \"gpt-4\"\n",
    "#                 #         messages=messages,\n",
    "#                 #         max_tokens=100,\n",
    "#                 #         temperature=0.9,\n",
    "#                 #         n=1\n",
    "#                 #     )\n",
    "#                 #     responses.append(response.choices[0].message.content)\n",
    "                \n",
    "               \n",
    "                \n",
    "#                 output = response.choices[0].message.content.split('## OUTPUT')[-1].strip()\n",
    "#                 match = re.search(r'\\[[^\\[\\]]*\\]', output)\n",
    "                \n",
    "#                 if match:\n",
    "#                     try:\n",
    "#                         preds = ast.literal_eval(match.group(0))\n",
    "#                         batch_score = compute_score(preds, batch_labels)\n",
    "#                     except:\n",
    "#                         batch_score = 0\n",
    "#                 else:\n",
    "#                     batch_score = 0\n",
    "\n",
    "#                 # print(f\"Batch {batch_start//batch_size+1} | Avg score: {batch_score}\")\n",
    "#                 total_score.append(batch_score)\n",
    "#             except Exception as e:\n",
    "#                 print(f\"Error processing batch {batch_start//batch_size+1}: {str(e)}\")\n",
    "#                 continue\n",
    "               \n",
    "#         # 计算平均奖励\n",
    "#         avg_reward = avg(total_score) \n",
    "#         practical_rewards.append(avg_reward)\n",
    "#         print(f\"Hypothesis {hyp_idx+1} Final Avg Reward: {avg_reward:.4f}\")\n",
    "    \n",
    "#     return practical_rewards\n",
    "\n",
    "# # 使用示例\n",
    "# p_rewards_api = get_practical_rewards(\n",
    "#     hypothesis_bank,\n",
    "#     tweet_pairs_dataset,\n",
    "#     batch_size=10  # 根据API速率限制调整\n",
    "# )"
   ]
  },
  {
   "cell_type": "code",
   "execution_count": 26,
   "metadata": {},
   "outputs": [
    {
     "name": "stdout",
     "output_type": "stream",
     "text": [
      "[0.5066666666666667, 0.4266666666666667, 0.5066666666666666, 0.48333333333333334, 0.48000000000000004, 0.48333333333333334, 0.5133333333333333, 0.4666666666666667, 0.48000000000000004, 0.47]\n"
     ]
    }
   ],
   "source": [
    "print(p_rewards_infer)"
   ]
  },
  {
   "cell_type": "code",
   "execution_count": 27,
   "metadata": {},
   "outputs": [],
   "source": [
    "p_rewards_infer_qwen1s5_batch10 = [0.48000000000000004, 0.53, 0.5433333333333333, 0.5066666666666666, 0.4966666666666667, 0.5666666666666667, 0.5466666666666666, 0.4666666666666667, 0.53, 0.5]\n",
    "p_rewards_infer_qwen7_batch10 = [0.5399999999999999, 0.6, 0.55, 0.56, 0.5133333333333333, 0.5466666666666666, 0.55, 0.61, 0.4933333333333333, 0.5433333333333333]\n",
    "p_rewards_infer_qwen1s5_batch1 = [0.54, 0.4766666666666667, 0.49666666666666665, 0.5466666666666666, 0.5, 0.5233333333333333, 0.5133333333333333, 0.49666666666666665, 0.5066666666666667, 0.5133333333333333]\n",
    "p_rewards_infer_qwen1s5_batch20 = [0.4166666666666667, 0.4566666666666667, 0.36333333333333334, 0.2966666666666667, 0.41333333333333333, 0.3466666666666667, 0.45, 0.43333333333333335, 0.37, 0.3466666666666667]\n",
    "p_rewards_api = [0.5433333333333333, 0.5333333333333333, 0.5700000000000001, 0.6533333333333332, 0.5133333333333333, 0.58, 0.5666666666666667, 0.56, 0.5666666666666667, 0.5633333333333332]"
   ]
  },
  {
   "cell_type": "code",
   "execution_count": 28,
   "metadata": {},
   "outputs": [
    {
     "data": {
      "image/png": "[encoded data removed]",
      "text/plain": [
       "<Figure size 640x480 with 1 Axes>"
      ]
     },
     "metadata": {},
     "output_type": "display_data"
    }
   ],
   "source": [
    "import matplotlib.pyplot as plt\n",
    "\n",
    "\n",
    "\n",
    "# 创建图形\n",
    "plt.plot(p_rewards_infer, marker='o', linestyle='-', color='b', label='infer')  # 绘制 infer 线\n",
    "plt.plot(p_rewards_api, marker='s', linestyle='--', color='r', label='api')     # 绘制 api 线\n",
    "\n",
    "# 添加标题和标签\n",
    "plt.title('Comparison of infer and api')\n",
    "plt.xlabel('X-axis')\n",
    "plt.ylabel('Y-axis')\n",
    "\n",
    "# 显示图例\n",
    "plt.legend()\n",
    "plt.savefig('batch5-qwen1.5b.jpg')\n",
    "# 显示图形\n",
    "plt.show()"
   ]
  }
 ],
 "metadata": {
  "kernelspec": {
   "display_name": "llm",
   "language": "python",
   "name": "python3"
  },
  "language_info": {
   "codemirror_mode": {
    "name": "ipython",
    "version": 3
   },
   "file_extension": ".py",
   "mimetype": "text/x-python",
   "name": "python",
   "nbconvert_exporter": "python",
   "pygments_lexer": "ipython3",
   "version": "3.12.8"
  }
 },
 "nbformat": 4,
 "nbformat_minor": 2
}
